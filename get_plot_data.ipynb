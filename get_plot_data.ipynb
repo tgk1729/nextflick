{
 "cells": [
  {
   "cell_type": "markdown",
   "metadata": {},
   "source": [
    "# Introduction"
   ]
  },
  {
   "cell_type": "markdown",
   "metadata": {},
   "source": [
    "In this file, our goal is to obtain plot data for every English language movie from the [CMU Movie Summary Corpus](http://www.cs.cmu.edu/~ark/personas/). This corpus was created by scraping Wikipedia. We start by importing the necessary libraries. "
   ]
  },
  {
   "cell_type": "code",
   "execution_count": 154,
   "metadata": {},
   "outputs": [],
   "source": [
    "import os\n",
    "import csv\n",
    "import pandas as pd\n",
    "import numpy as np"
   ]
  },
  {
   "cell_type": "markdown",
   "metadata": {},
   "source": [
    "We start by loading the 'metadata.tsv' file to obtain the mapping between movie_id and the movie title. Further, this file would allow us to filter away all movies that are not in English language."
   ]
  },
  {
   "cell_type": "code",
   "execution_count": 146,
   "metadata": {},
   "outputs": [],
   "source": [
    "cwd = os.getcwd()\n",
    "movie_metadata_file = open(os.path.join(cwd, \"movie.metadata.tsv\"),'r', encoding=\"utf8\")\n",
    "movie_metadata = [line.strip().split(\"\\t\") for line in movie_metadata_file]"
   ]
  },
  {
   "cell_type": "code",
   "execution_count": 127,
   "metadata": {
    "scrolled": true
   },
   "outputs": [
    {
     "data": {
      "text/plain": [
       "['975900',\n",
       " '/m/03vyhn',\n",
       " 'Ghosts of Mars',\n",
       " '2001-08-24',\n",
       " '14010832',\n",
       " '98.0',\n",
       " '{\"/m/02h40lc\": \"English Language\"}',\n",
       " '{\"/m/09c7w0\": \"United States of America\"}',\n",
       " '{\"/m/01jfsb\": \"Thriller\", \"/m/06n90\": \"Science Fiction\", \"/m/03npn\": \"Horror\", \"/m/03k9fj\": \"Adventure\", \"/m/0fdjb\": \"Supernatural\", \"/m/02kdv5l\": \"Action\", \"/m/09zvmj\": \"Space western\"}']"
      ]
     },
     "execution_count": 127,
     "metadata": {},
     "output_type": "execute_result"
    }
   ],
   "source": [
    "movie_metadata[0]"
   ]
  },
  {
   "cell_type": "markdown",
   "metadata": {},
   "source": [
    "Note that the movie_id, title and language are in the 0th, 2nd and 6th rows within the metadata file. We also pick up the date of the release information from the 3rd row. We put all this information in a single dataframe."
   ]
  },
  {
   "cell_type": "code",
   "execution_count": 164,
   "metadata": {
    "scrolled": false
   },
   "outputs": [
    {
     "data": {
      "text/html": [
       "<div>\n",
       "<style scoped>\n",
       "    .dataframe tbody tr th:only-of-type {\n",
       "        vertical-align: middle;\n",
       "    }\n",
       "\n",
       "    .dataframe tbody tr th {\n",
       "        vertical-align: top;\n",
       "    }\n",
       "\n",
       "    .dataframe thead th {\n",
       "        text-align: right;\n",
       "    }\n",
       "</style>\n",
       "<table border=\"1\" class=\"dataframe\">\n",
       "  <thead>\n",
       "    <tr style=\"text-align: right;\">\n",
       "      <th></th>\n",
       "      <th>movie_id</th>\n",
       "      <th>title</th>\n",
       "      <th>date</th>\n",
       "    </tr>\n",
       "  </thead>\n",
       "  <tbody>\n",
       "    <tr>\n",
       "      <th>0</th>\n",
       "      <td>975900</td>\n",
       "      <td>Ghosts of Mars</td>\n",
       "      <td>2001-08-24</td>\n",
       "    </tr>\n",
       "    <tr>\n",
       "      <th>1</th>\n",
       "      <td>3196793</td>\n",
       "      <td>Getting Away with Murder: The JonBenét Ramsey ...</td>\n",
       "      <td>2000-02-16</td>\n",
       "    </tr>\n",
       "    <tr>\n",
       "      <th>3</th>\n",
       "      <td>9363483</td>\n",
       "      <td>White Of The Eye</td>\n",
       "      <td>1987</td>\n",
       "    </tr>\n",
       "    <tr>\n",
       "      <th>5</th>\n",
       "      <td>13696889</td>\n",
       "      <td>The Gangsters</td>\n",
       "      <td>1913-05-29</td>\n",
       "    </tr>\n",
       "    <tr>\n",
       "      <th>6</th>\n",
       "      <td>18998739</td>\n",
       "      <td>The Sorcerer's Apprentice</td>\n",
       "      <td>2002</td>\n",
       "    </tr>\n",
       "  </tbody>\n",
       "</table>\n",
       "</div>"
      ],
      "text/plain": [
       "   movie_id                                              title        date\n",
       "0    975900                                     Ghosts of Mars  2001-08-24\n",
       "1   3196793  Getting Away with Murder: The JonBenét Ramsey ...  2000-02-16\n",
       "3   9363483                                   White Of The Eye        1987\n",
       "5  13696889                                      The Gangsters  1913-05-29\n",
       "6  18998739                          The Sorcerer's Apprentice        2002"
      ]
     },
     "execution_count": 164,
     "metadata": {},
     "output_type": "execute_result"
    }
   ],
   "source": [
    "movie_ids = [row[0] for row in movie_metadata]\n",
    "movie_titles = [row[2] for row in movie_metadata]\n",
    "movie_language = [row[6] for row in movie_metadata]\n",
    "movie_date = [row[3] for row in movie_metadata]\n",
    "movie_df = pd.DataFrame(list(zip(movie_ids, movie_titles, movie_language, movie_date)), columns=['movie_id', 'title', 'language', 'date'])\n",
    "movie_df = movie_df[movie_df.language.str.contains('English')]\n",
    "movie_df.drop(['language'], axis=1,  inplace=True)\n",
    "movie_df.head()"
   ]
  },
  {
   "cell_type": "markdown",
   "metadata": {},
   "source": [
    "Next, we load the plot summary file and separate the movie_id for each movie from the actual textual plot. We put them together in the movie_summary_df dataframe. "
   ]
  },
  {
   "cell_type": "code",
   "execution_count": 165,
   "metadata": {},
   "outputs": [
    {
     "data": {
      "text/plain": [
       "['23890098',\n",
       " \"Shlykov, a hard-working taxi driver and Lyosha, a saxophonist, develop a bizarre love-hate relationship, and despite their prejudices, realize they aren't so different after all.\"]"
      ]
     },
     "execution_count": 165,
     "metadata": {},
     "output_type": "execute_result"
    }
   ],
   "source": [
    "movie_summary_file = open(os.path.join(cwd, \"plot_summaries.txt\"), 'r', encoding='utf8')\n",
    "movie_summary = [line.strip().split('\\t') for line in movie_summary_file]\n",
    "movie_summary[0]"
   ]
  },
  {
   "cell_type": "code",
   "execution_count": 167,
   "metadata": {
    "scrolled": true
   },
   "outputs": [
    {
     "data": {
      "text/html": [
       "<div>\n",
       "<style scoped>\n",
       "    .dataframe tbody tr th:only-of-type {\n",
       "        vertical-align: middle;\n",
       "    }\n",
       "\n",
       "    .dataframe tbody tr th {\n",
       "        vertical-align: top;\n",
       "    }\n",
       "\n",
       "    .dataframe thead th {\n",
       "        text-align: right;\n",
       "    }\n",
       "</style>\n",
       "<table border=\"1\" class=\"dataframe\">\n",
       "  <thead>\n",
       "    <tr style=\"text-align: right;\">\n",
       "      <th></th>\n",
       "      <th>movie_id</th>\n",
       "      <th>plot</th>\n",
       "    </tr>\n",
       "  </thead>\n",
       "  <tbody>\n",
       "    <tr>\n",
       "      <th>0</th>\n",
       "      <td>23890098</td>\n",
       "      <td>Shlykov, a hard-working taxi driver and Lyosha...</td>\n",
       "    </tr>\n",
       "    <tr>\n",
       "      <th>1</th>\n",
       "      <td>31186339</td>\n",
       "      <td>The nation of Panem consists of a wealthy Capi...</td>\n",
       "    </tr>\n",
       "    <tr>\n",
       "      <th>2</th>\n",
       "      <td>20663735</td>\n",
       "      <td>Poovalli Induchoodan  is sentenced for six yea...</td>\n",
       "    </tr>\n",
       "    <tr>\n",
       "      <th>3</th>\n",
       "      <td>2231378</td>\n",
       "      <td>The Lemon Drop Kid , a New York City swindler,...</td>\n",
       "    </tr>\n",
       "    <tr>\n",
       "      <th>4</th>\n",
       "      <td>595909</td>\n",
       "      <td>Seventh-day Adventist Church pastor Michael Ch...</td>\n",
       "    </tr>\n",
       "  </tbody>\n",
       "</table>\n",
       "</div>"
      ],
      "text/plain": [
       "   movie_id                                               plot\n",
       "0  23890098  Shlykov, a hard-working taxi driver and Lyosha...\n",
       "1  31186339  The nation of Panem consists of a wealthy Capi...\n",
       "2  20663735  Poovalli Induchoodan  is sentenced for six yea...\n",
       "3   2231378  The Lemon Drop Kid , a New York City swindler,...\n",
       "4    595909  Seventh-day Adventist Church pastor Michael Ch..."
      ]
     },
     "execution_count": 167,
     "metadata": {},
     "output_type": "execute_result"
    }
   ],
   "source": [
    "movie_summary_id = [row[0] for row in movie_summary]\n",
    "movie_summary_plot = [row[1] for row in movie_summary]\n",
    "movie_summary_df = pd.DataFrame(list(zip(movie_summary_id, movie_summary_plot)), columns=['movie_id', 'plot'])\n",
    "movie_summary_df.head()"
   ]
  },
  {
   "cell_type": "markdown",
   "metadata": {},
   "source": [
    "Next, we merge the two dataframes above and drop those movies that have no plot available. Also, we concatenate the title of the movie with the date of release for convenience. "
   ]
  },
  {
   "cell_type": "code",
   "execution_count": 168,
   "metadata": {
    "scrolled": true
   },
   "outputs": [
    {
     "data": {
      "text/html": [
       "<div>\n",
       "<style scoped>\n",
       "    .dataframe tbody tr th:only-of-type {\n",
       "        vertical-align: middle;\n",
       "    }\n",
       "\n",
       "    .dataframe tbody tr th {\n",
       "        vertical-align: top;\n",
       "    }\n",
       "\n",
       "    .dataframe thead th {\n",
       "        text-align: right;\n",
       "    }\n",
       "</style>\n",
       "<table border=\"1\" class=\"dataframe\">\n",
       "  <thead>\n",
       "    <tr style=\"text-align: right;\">\n",
       "      <th></th>\n",
       "      <th>movie_id</th>\n",
       "      <th>title</th>\n",
       "      <th>plot</th>\n",
       "    </tr>\n",
       "  </thead>\n",
       "  <tbody>\n",
       "    <tr>\n",
       "      <th>0</th>\n",
       "      <td>975900</td>\n",
       "      <td>Ghosts of Mars (2001-08-24)</td>\n",
       "      <td>Set in the second half of the 22nd century, th...</td>\n",
       "    </tr>\n",
       "    <tr>\n",
       "      <th>1</th>\n",
       "      <td>9363483</td>\n",
       "      <td>White Of The Eye (1987)</td>\n",
       "      <td>A series of murders of rich young women throug...</td>\n",
       "    </tr>\n",
       "    <tr>\n",
       "      <th>2</th>\n",
       "      <td>18998739</td>\n",
       "      <td>The Sorcerer's Apprentice (2002)</td>\n",
       "      <td>Every hundred years, the evil Morgana  returns...</td>\n",
       "    </tr>\n",
       "    <tr>\n",
       "      <th>3</th>\n",
       "      <td>6631279</td>\n",
       "      <td>Little city (1997-04-04)</td>\n",
       "      <td>Adam, a San Francisco-based artist who works a...</td>\n",
       "    </tr>\n",
       "    <tr>\n",
       "      <th>4</th>\n",
       "      <td>171005</td>\n",
       "      <td>Henry V (1989-11-08)</td>\n",
       "      <td>{{Plot|dateAct 1Act 2Act 3Act 4Act 5 Finally n...</td>\n",
       "    </tr>\n",
       "  </tbody>\n",
       "</table>\n",
       "</div>"
      ],
      "text/plain": [
       "   movie_id                             title  \\\n",
       "0    975900       Ghosts of Mars (2001-08-24)   \n",
       "1   9363483           White Of The Eye (1987)   \n",
       "2  18998739  The Sorcerer's Apprentice (2002)   \n",
       "3   6631279          Little city (1997-04-04)   \n",
       "4    171005              Henry V (1989-11-08)   \n",
       "\n",
       "                                                plot  \n",
       "0  Set in the second half of the 22nd century, th...  \n",
       "1  A series of murders of rich young women throug...  \n",
       "2  Every hundred years, the evil Morgana  returns...  \n",
       "3  Adam, a San Francisco-based artist who works a...  \n",
       "4  {{Plot|dateAct 1Act 2Act 3Act 4Act 5 Finally n...  "
      ]
     },
     "execution_count": 168,
     "metadata": {},
     "output_type": "execute_result"
    }
   ],
   "source": [
    "movie_df = pd.merge(movie_df, movie_summary_df, how='left', on='movie_id')\n",
    "movie_df.dropna(subset=['plot'], inplace=True)\n",
    "movie_df['title'] = movie_df['title'] + \" (\" + movie_df['date'] + \")\"\n",
    "movie_df.drop(['date'], axis=1, inplace=True)\n",
    "movie_df.reset_index(inplace=True, drop=True)\n",
    "movie_df.head()"
   ]
  },
  {
   "cell_type": "markdown",
   "metadata": {},
   "source": [
    "We save information from this dataframe to disk to get the mapping between the movie_id and the title. We only save the relevant columns"
   ]
  },
  {
   "cell_type": "code",
   "execution_count": 153,
   "metadata": {},
   "outputs": [],
   "source": [
    "movie_df.to_csv(os.path.join(cwd, 'movieId_bert.csv'), index=True, columns=['movieId', 'title'])"
   ]
  },
  {
   "cell_type": "markdown",
   "metadata": {},
   "source": [
    "Next, we use the sentence_transformers [library](https://github.com/UKPLab/sentence-transformers) to run BERT on the plot for each movie and obtain the associated embeddings. This takes a very LONG time.  "
   ]
  },
  {
   "cell_type": "code",
   "execution_count": 144,
   "metadata": {
    "scrolled": true
   },
   "outputs": [
    {
     "name": "stdout",
     "output_type": "stream",
     "text": [
      "14282.957549571991\n"
     ]
    }
   ],
   "source": [
    "from sentence_transformers import SentenceTransformer\n",
    "import sentence_transformers\n",
    "\n",
    "model = SentenceTransformer('stsb-roberta-large')\n",
    "plot_embeddings = np.zeros((len(movie_df.axes[0]),1024))\n",
    "for i in range(len(movie_df.axes[0])):\n",
    "    plot = movie_df['plot'].iloc[i]\n",
    "    plot_embeddings[i] = model.encode(plot)"
   ]
  },
  {
   "cell_type": "markdown",
   "metadata": {},
   "source": [
    "Once we obtain the embeddings, we save them to file."
   ]
  },
  {
   "cell_type": "code",
   "execution_count": 145,
   "metadata": {},
   "outputs": [],
   "source": [
    "plot_embeddings_df = pd.DataFrame(plot_embeddings, index=movie_df.index.tolist())\n",
    "plot_embeddings_df.to_csv(os.path.join(cwd, 'movie_roberta-large_embeddings.csv'), index=True) "
   ]
  }
 ],
 "metadata": {
  "kernelspec": {
   "display_name": "kernel_work",
   "language": "python",
   "name": "work"
  },
  "language_info": {
   "codemirror_mode": {
    "name": "ipython",
    "version": 3
   },
   "file_extension": ".py",
   "mimetype": "text/x-python",
   "name": "python",
   "nbconvert_exporter": "python",
   "pygments_lexer": "ipython3",
   "version": "3.8.5"
  }
 },
 "nbformat": 4,
 "nbformat_minor": 4
}
