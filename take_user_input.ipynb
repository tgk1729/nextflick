{
 "cells": [
  {
   "cell_type": "markdown",
   "metadata": {},
   "source": [
    "# Introduction"
   ]
  },
  {
   "cell_type": "markdown",
   "metadata": {},
   "source": [
    "In this file, we shall take user input in the form of answers to questions about the kind of movies they would like to watch. Once we collect this information, we shall use a content-based recommender which we construct from the data generated in the 'get_data' file to give real-time recommendations to the user."
   ]
  },
  {
   "cell_type": "code",
   "execution_count": 2,
   "metadata": {},
   "outputs": [],
   "source": [
    "import numpy as np\n",
    "import pandas as pd\n",
    "import os"
   ]
  },
  {
   "cell_type": "code",
   "execution_count": 3,
   "metadata": {},
   "outputs": [],
   "source": [
    "pd.options.display.max_rows = 999\n",
    "pd.options.display.max_columns = 999\n",
    "pd.options.display.max_colwidth = 99"
   ]
  },
  {
   "cell_type": "markdown",
   "metadata": {},
   "source": [
    "We start by reading the 'tags' and the 'principalComponents_df' dataframes from previously generated files. These files contain the movie mapping and embeddings respectively, generated using TF-IDF and PCA from the MovieLens user-generated tag data."
   ]
  },
  {
   "cell_type": "code",
   "execution_count": 4,
   "metadata": {},
   "outputs": [],
   "source": [
    "cwd = os.getcwd()\n",
    "\n",
    "tags = pd.read_csv(os.path.join(cwd, \"tags_with_document.csv\"))\n",
    "tags.drop(['Unnamed: 0'], axis=1, inplace=True)\n",
    "principalComponents_df = pd.read_csv(os.path.join(cwd, \"principal_Components.csv\"))\n",
    "principalComponents_df.drop(['Unnamed: 0'], axis=1, inplace=True)"
   ]
  },
  {
   "cell_type": "markdown",
   "metadata": {},
   "source": [
    "We also read the 'movieid_df' and the 'bert_movie_embeddings_df' dataframes from previously generated files. These files contain the movie mappings and embeddings respectively, generated using BERT from the CMU Movie Summary corpus. "
   ]
  },
  {
   "cell_type": "code",
   "execution_count": 5,
   "metadata": {},
   "outputs": [],
   "source": [
    "cwd = os.getcwd()\n",
    "\n",
    "movieid_df = pd.read_csv(os.path.join(cwd, \"movieId_bert.csv\"))\n",
    "movieid_df.drop(['Unnamed: 0'], axis=1, inplace=True)\n",
    "bert_movie_embeddings_df = pd.read_csv(os.path.join(cwd, \"movie_roberta-large_embeddings.csv\"))\n",
    "bert_movie_embeddings_df.drop(['Unnamed: 0'], axis=1, inplace=True)"
   ]
  },
  {
   "cell_type": "markdown",
   "metadata": {},
   "source": [
    "Next, we create a content-based recommender. We take an input of movie indices that a user presumably likes. We then locate these movies in the embeddings dataframe ('principalComponents_df' and 'bert_movie_embeddings_df') and calculate the cosine similarity for every other movie in the database with these movies. Once done, we shall compute the average cosine similarity for each movie and recommend the ones that have the highest score. "
   ]
  },
  {
   "cell_type": "code",
   "execution_count": 7,
   "metadata": {},
   "outputs": [],
   "source": [
    "from sklearn.metrics.pairwise import cosine_similarity\n",
    "\n",
    "def get_content_recommendations(movie_indices, mapping_df, embeddings_df, num = 10):\n",
    "    \n",
    "    if len(movie_indices) == 0:\n",
    "        return \"Sorry, please try again.\"\n",
    "    else:\n",
    "        embeddings_movie_indices_df = embeddings_df.loc[movie_indices]\n",
    "        similarity_matrix_df = pd.DataFrame(cosine_similarity(embeddings_movie_indices_df.values,embeddings_df.values), index=movie_indices, columns = mapping_df.index.tolist())\n",
    "        similarity_matrix_df.drop(labels=movie_indices, axis=1, inplace=True)\n",
    "        similarity_score_df = pd.DataFrame(similarity_matrix_df.mean(), columns=['average similarity score'])\n",
    "        similarity_score_df.sort_values(by=['average similarity score'], ascending=False, inplace=True)\n",
    "        \n",
    "        return display(mapping_df.loc[similarity_score_df.head(num).index.values.tolist()]['title'])"
   ]
  },
  {
   "cell_type": "markdown",
   "metadata": {},
   "source": [
    "We can test whether this recommendation scheme works well or not. To start with, we try to figure out the movie index corresponding to a given movie. For example, consider \"Star Wars\". We first start with the MovieLens data."
   ]
  },
  {
   "cell_type": "code",
   "execution_count": 36,
   "metadata": {
    "scrolled": true
   },
   "outputs": [
    {
     "data": {
      "text/html": [
       "<div>\n",
       "<style scoped>\n",
       "    .dataframe tbody tr th:only-of-type {\n",
       "        vertical-align: middle;\n",
       "    }\n",
       "\n",
       "    .dataframe tbody tr th {\n",
       "        vertical-align: top;\n",
       "    }\n",
       "\n",
       "    .dataframe thead th {\n",
       "        text-align: right;\n",
       "    }\n",
       "</style>\n",
       "<table border=\"1\" class=\"dataframe\">\n",
       "  <thead>\n",
       "    <tr style=\"text-align: right;\">\n",
       "      <th></th>\n",
       "      <th>title</th>\n",
       "    </tr>\n",
       "  </thead>\n",
       "  <tbody>\n",
       "    <tr>\n",
       "      <th>248</th>\n",
       "      <td>Star Wars: Episode IV - A New Hope (1977)</td>\n",
       "    </tr>\n",
       "    <tr>\n",
       "      <th>1079</th>\n",
       "      <td>Star Wars: Episode V - The Empire Strikes Back (1980)</td>\n",
       "    </tr>\n",
       "    <tr>\n",
       "      <th>1092</th>\n",
       "      <td>Star Wars: Episode VI - Return of the Jedi (1983)</td>\n",
       "    </tr>\n",
       "    <tr>\n",
       "      <th>2388</th>\n",
       "      <td>Star Wars: Episode I - The Phantom Menace (1999)</td>\n",
       "    </tr>\n",
       "    <tr>\n",
       "      <th>5011</th>\n",
       "      <td>Star Wars: Episode II - Attack of the Clones (2002)</td>\n",
       "    </tr>\n",
       "    <tr>\n",
       "      <th>9517</th>\n",
       "      <td>Star Wars: Episode III - Revenge of the Sith (2005)</td>\n",
       "    </tr>\n",
       "    <tr>\n",
       "      <th>12064</th>\n",
       "      <td>Star Wars: The Clone Wars (2008)</td>\n",
       "    </tr>\n",
       "    <tr>\n",
       "      <th>14218</th>\n",
       "      <td>Empire of Dreams: The Story of the 'Star Wars' Trilogy (2004)</td>\n",
       "    </tr>\n",
       "    <tr>\n",
       "      <th>19766</th>\n",
       "      <td>Star Wars: Threads of Destiny (2014)</td>\n",
       "    </tr>\n",
       "    <tr>\n",
       "      <th>23031</th>\n",
       "      <td>Star Wars: Episode VII - The Force Awakens (2015)</td>\n",
       "    </tr>\n",
       "    <tr>\n",
       "      <th>26845</th>\n",
       "      <td>The Star Wars Holiday Special (1978)</td>\n",
       "    </tr>\n",
       "    <tr>\n",
       "      <th>31328</th>\n",
       "      <td>Plastic Galaxy: The Story of Star Wars Toys (2014)</td>\n",
       "    </tr>\n",
       "    <tr>\n",
       "      <th>36262</th>\n",
       "      <td>Rogue One: A Star Wars Story (2016)</td>\n",
       "    </tr>\n",
       "    <tr>\n",
       "      <th>40428</th>\n",
       "      <td>Star Wars: The Last Jedi (2017)</td>\n",
       "    </tr>\n",
       "    <tr>\n",
       "      <th>41381</th>\n",
       "      <td>Star Wars: The Legacy Revealed (2007)</td>\n",
       "    </tr>\n",
       "    <tr>\n",
       "      <th>41909</th>\n",
       "      <td>Star Wars Downunder (2013)</td>\n",
       "    </tr>\n",
       "    <tr>\n",
       "      <th>42867</th>\n",
       "      <td>Solo: A Star Wars Story (2018)</td>\n",
       "    </tr>\n",
       "    <tr>\n",
       "      <th>44229</th>\n",
       "      <td>Star Wars: Dresca</td>\n",
       "    </tr>\n",
       "  </tbody>\n",
       "</table>\n",
       "</div>"
      ],
      "text/plain": [
       "                                                               title\n",
       "248                        Star Wars: Episode IV - A New Hope (1977)\n",
       "1079           Star Wars: Episode V - The Empire Strikes Back (1980)\n",
       "1092               Star Wars: Episode VI - Return of the Jedi (1983)\n",
       "2388                Star Wars: Episode I - The Phantom Menace (1999)\n",
       "5011             Star Wars: Episode II - Attack of the Clones (2002)\n",
       "9517             Star Wars: Episode III - Revenge of the Sith (2005)\n",
       "12064                               Star Wars: The Clone Wars (2008)\n",
       "14218  Empire of Dreams: The Story of the 'Star Wars' Trilogy (2004)\n",
       "19766                           Star Wars: Threads of Destiny (2014)\n",
       "23031              Star Wars: Episode VII - The Force Awakens (2015)\n",
       "26845                           The Star Wars Holiday Special (1978)\n",
       "31328             Plastic Galaxy: The Story of Star Wars Toys (2014)\n",
       "36262                            Rogue One: A Star Wars Story (2016)\n",
       "40428                                Star Wars: The Last Jedi (2017)\n",
       "41381                          Star Wars: The Legacy Revealed (2007)\n",
       "41909                                     Star Wars Downunder (2013)\n",
       "42867                                 Solo: A Star Wars Story (2018)\n",
       "44229                                              Star Wars: Dresca"
      ]
     },
     "execution_count": 36,
     "metadata": {},
     "output_type": "execute_result"
    }
   ],
   "source": [
    "movie_title = \"Star Wars\"\n",
    "tags[tags.title.str.contains(movie_title)][['title']]"
   ]
  },
  {
   "cell_type": "markdown",
   "metadata": {},
   "source": [
    "Similarly, the movie indices with respect to the CMU corpus are given by:"
   ]
  },
  {
   "cell_type": "code",
   "execution_count": 11,
   "metadata": {},
   "outputs": [
    {
     "data": {
      "text/html": [
       "<div>\n",
       "<style scoped>\n",
       "    .dataframe tbody tr th:only-of-type {\n",
       "        vertical-align: middle;\n",
       "    }\n",
       "\n",
       "    .dataframe tbody tr th {\n",
       "        vertical-align: top;\n",
       "    }\n",
       "\n",
       "    .dataframe thead th {\n",
       "        text-align: right;\n",
       "    }\n",
       "</style>\n",
       "<table border=\"1\" class=\"dataframe\">\n",
       "  <thead>\n",
       "    <tr style=\"text-align: right;\">\n",
       "      <th></th>\n",
       "      <th>title</th>\n",
       "    </tr>\n",
       "  </thead>\n",
       "  <tbody>\n",
       "    <tr>\n",
       "      <th>1468</th>\n",
       "      <td>Star Wars: The Clone Wars (2008-08-10)</td>\n",
       "    </tr>\n",
       "    <tr>\n",
       "      <th>1843</th>\n",
       "      <td>Star Wars Episode II: Attack of the Clones (2002-05-16)</td>\n",
       "    </tr>\n",
       "    <tr>\n",
       "      <th>2754</th>\n",
       "      <td>Saving Star Wars (2004-06-09)</td>\n",
       "    </tr>\n",
       "    <tr>\n",
       "      <th>4781</th>\n",
       "      <td>Star Wars Episode VI: Return of the Jedi (1983-05-25)</td>\n",
       "    </tr>\n",
       "    <tr>\n",
       "      <th>9692</th>\n",
       "      <td>The Making of Star Wars (1977-09-16)</td>\n",
       "    </tr>\n",
       "    <tr>\n",
       "      <th>10270</th>\n",
       "      <td>LEGO Star Wars: Revenge of the Brick (2005-05-08)</td>\n",
       "    </tr>\n",
       "    <tr>\n",
       "      <th>15224</th>\n",
       "      <td>Star Wars Episode I: The Phantom Menace (1999-05-19)</td>\n",
       "    </tr>\n",
       "    <tr>\n",
       "      <th>16127</th>\n",
       "      <td>Lego Star Wars: Bombad Bounty (2010-11-27)</td>\n",
       "    </tr>\n",
       "    <tr>\n",
       "      <th>17002</th>\n",
       "      <td>Star Wars Episode V: The Empire Strikes Back (1980-05-21)</td>\n",
       "    </tr>\n",
       "    <tr>\n",
       "      <th>17070</th>\n",
       "      <td>The Star Wars Holiday Special (1978-11-17)</td>\n",
       "    </tr>\n",
       "    <tr>\n",
       "      <th>18861</th>\n",
       "      <td>Star Wars Episode III: Revenge of the Sith (2005-05-15)</td>\n",
       "    </tr>\n",
       "    <tr>\n",
       "      <th>20595</th>\n",
       "      <td>Star Wars: Revelations (2005-04-17)</td>\n",
       "    </tr>\n",
       "    <tr>\n",
       "      <th>24522</th>\n",
       "      <td>Star Wars Episode IV: A New Hope (1977-05-25)</td>\n",
       "    </tr>\n",
       "  </tbody>\n",
       "</table>\n",
       "</div>"
      ],
      "text/plain": [
       "                                                           title\n",
       "1468                      Star Wars: The Clone Wars (2008-08-10)\n",
       "1843     Star Wars Episode II: Attack of the Clones (2002-05-16)\n",
       "2754                               Saving Star Wars (2004-06-09)\n",
       "4781       Star Wars Episode VI: Return of the Jedi (1983-05-25)\n",
       "9692                        The Making of Star Wars (1977-09-16)\n",
       "10270          LEGO Star Wars: Revenge of the Brick (2005-05-08)\n",
       "15224       Star Wars Episode I: The Phantom Menace (1999-05-19)\n",
       "16127                 Lego Star Wars: Bombad Bounty (2010-11-27)\n",
       "17002  Star Wars Episode V: The Empire Strikes Back (1980-05-21)\n",
       "17070                 The Star Wars Holiday Special (1978-11-17)\n",
       "18861    Star Wars Episode III: Revenge of the Sith (2005-05-15)\n",
       "20595                        Star Wars: Revelations (2005-04-17)\n",
       "24522              Star Wars Episode IV: A New Hope (1977-05-25)"
      ]
     },
     "execution_count": 11,
     "metadata": {},
     "output_type": "execute_result"
    }
   ],
   "source": [
    "movie_title = \"Star Wars\"\n",
    "movieid_df[movieid_df.title.str.contains(movie_title)][['title']]"
   ]
  },
  {
   "cell_type": "markdown",
   "metadata": {},
   "source": [
    "Suppose we pick Star Wars: Episode IV and Star Wars: Episode V as movies that we like. Then, the content-based recommendations from using the MovieLens data and TF-IDF PCA are given by:"
   ]
  },
  {
   "cell_type": "code",
   "execution_count": 9,
   "metadata": {
    "scrolled": false
   },
   "outputs": [
    {
     "data": {
      "text/plain": [
       "1092                        Star Wars: Episode VI - Return of the Jedi (1983)\n",
       "2388                         Star Wars: Episode I - The Phantom Menace (1999)\n",
       "5011                      Star Wars: Episode II - Attack of the Clones (2002)\n",
       "20515                                                Jupiter Ascending (2015)\n",
       "23993                                                    Velocity Trap (1997)\n",
       "33572                                  Buck Rogers in the 25th Century (1979)\n",
       "9517                      Star Wars: Episode III - Revenge of the Sith (2005)\n",
       "15139    Message from Space (Uchu Kara no Messeji) (Return to Jelucia) (1978)\n",
       "28652                                         In the Dust of the Stars (1976)\n",
       "43225                                       Polish Legends: Twardowsky (2015)\n",
       "Name: title, dtype: object"
      ]
     },
     "metadata": {},
     "output_type": "display_data"
    }
   ],
   "source": [
    "get_content_recommendations([248, 1079], tags, principalComponents_df)"
   ]
  },
  {
   "cell_type": "markdown",
   "metadata": {},
   "source": [
    "Similarly, the content-based recommendations from using the CMU corpus and BERT are given by:"
   ]
  },
  {
   "cell_type": "code",
   "execution_count": 13,
   "metadata": {},
   "outputs": [
    {
     "data": {
      "text/plain": [
       "4781       Star Wars Episode VI: Return of the Jedi (1983-05-25)\n",
       "10270          LEGO Star Wars: Revenge of the Brick (2005-05-08)\n",
       "18861    Star Wars Episode III: Revenge of the Sith (2005-05-15)\n",
       "12909                   The Transformers: The Movie (1986-08-08)\n",
       "20202                Ultraman: The Adventure Begins (1987-10-12)\n",
       "19795                                     Starcrash (1978-12-21)\n",
       "15224       Star Wars Episode I: The Phantom Menace (1999-05-19)\n",
       "16365                                      Heart of Steel (2006)\n",
       "10772                              Batman: Dead End (2003-07-19)\n",
       "20337              He-Man and She-Ra: A Christmas Special (1985)\n",
       "Name: title, dtype: object"
      ]
     },
     "metadata": {},
     "output_type": "display_data"
    }
   ],
   "source": [
    "get_content_recommendations([24522, 17002], movieid_df, bert_movie_embeddings_df)"
   ]
  },
  {
   "cell_type": "markdown",
   "metadata": {},
   "source": [
    "Thus, looking at the recommendations, one can conclude that the recommendation scheme works reasonably well with both our data sources. Our next step is to construct a function that will smartly query a user about the kind of movies they are currently interested in watching. Once information about the user's immediate preferences is collected, we can make a smart recommendation using our function above. The idea behind this smart way of querying is to use hierarchical binary clustering. We start with the user's history and perform the first binary clustering. Then we pick a movie from one cluster at random and ask if the user is currently interested in a movie like the one we picked. If the user says \"Yes\", then we limit ourselves to that particular cluster and repeat the exercise. If no, we move to the other cluster and do the same. We stop when no further clustering is possible. This is a desirable scheme because the number of questions that a user has to answer is roughly of the order $\\log_2 N$ where $N$ is the size of a user's history. If $N = 200$, then the user will only have to answer roughly 7 or 8 such questions. This scheme can easily be implemented in a Tinder-like user interface where each question can be framed as a swipe. \n",
    "\n",
    "In order to perform clustering, we use the AgglomerativeClustering module within the sklearn library.  We thus write the following function:"
   ]
  },
  {
   "cell_type": "code",
   "execution_count": 23,
   "metadata": {},
   "outputs": [],
   "source": [
    "from random import randrange\n",
    "from sklearn.cluster import AgglomerativeClustering \n",
    "\n",
    "def ask_yes_no(movie_index_list, mapping_df, embeddings_df):\n",
    "    movies_liked_indices = []\n",
    "    \n",
    "    if len(movie_index_list) == 0:\n",
    "        return movies_liked_indices\n",
    "\n",
    "    elif len(movie_index_list) == 1:\n",
    "        response = input(\"Do you like the movie \\\" {} \\\" ?\".format(mapping_df['title'].iloc[movie_index_list[0]]))\n",
    "        \n",
    "        if response == \"Yes\":\n",
    "            movies_liked_indices.append(movie_index_list[0])\n",
    "            \n",
    "        return movies_liked_indices\n",
    "    else:\n",
    "        movie_index_embeddings = np.take(embeddings_df.values, movie_index_list, axis=0)\n",
    "        clt = AgglomerativeClustering(linkage='average', affinity='cosine', n_clusters=2)\n",
    "        model = clt.fit(movie_index_embeddings) \n",
    "    \n",
    "        movies_label_zero = []\n",
    "        movies_label_one = []\n",
    "        \n",
    "        for i in range(len(model.labels_)):\n",
    "            if model.labels_[i] == 0:\n",
    "                movies_label_zero.append(movie_index_list[i])\n",
    "            else:\n",
    "                movies_label_one.append(movie_index_list[i])\n",
    "          \n",
    "        if len(movies_label_zero) != 0:\n",
    "            random_movie_index = np.random.choice(movies_label_zero, replace=False)\n",
    "            random_response = input(\"Do you like the movie \\\" {} \\\" ?\".format(mapping_df['title'].iloc[random_movie_index]))\n",
    "            \n",
    "            if random_response == \"Yes\":\n",
    "                movies_label_zero.remove(random_movie_index)\n",
    "                return ask_yes_no(movies_label_zero, mapping_df, embeddings_df) + [random_movie_index]\n",
    "            else: \n",
    "                return ask_yes_no(movies_label_one, mapping_df, embeddings_df)\n",
    "        else:\n",
    "            random_movie_index = np.random.choice(movies_label_one, replace=False)\n",
    "#             random_movie_index = movies_label_one[0] \n",
    "            random_response = input(\"Do you like the movie \\\" {} \\\" ?\".format(mapping_df['title'].iloc[random_movie_index]))\n",
    "                        \n",
    "            if random_response == \"Yes\":\n",
    "                movies_label_one.remove(random_movie_index)\n",
    "                return ask_yes_no(movies_label_one, mapping_df, embeddings_df) + [random_movie_index]\n",
    "            else: \n",
    "                movies_label_one.remove(random_movie_index)\n",
    "                return ask_yes_no(movies_label_one, mapping_df, embeddings_df)"
   ]
  },
  {
   "cell_type": "markdown",
   "metadata": {},
   "source": [
    "We can readily test to see if our function works well. We start with the 'tags' dataset. As a test case, we pick a user who has watched 9 movies - 4 from the Star Wars Universe and remaining 5 from the Marvel Cinematic Universe. The specific movies are as follows:"
   ]
  },
  {
   "cell_type": "code",
   "execution_count": 28,
   "metadata": {
    "scrolled": true
   },
   "outputs": [
    {
     "data": {
      "text/plain": [
       "248                  Star Wars: Episode IV - A New Hope (1977)\n",
       "1079     Star Wars: Episode V - The Empire Strikes Back (1980)\n",
       "2388          Star Wars: Episode I - The Phantom Menace (1999)\n",
       "9517       Star Wars: Episode III - Revenge of the Sith (2005)\n",
       "11808                                          Iron Man (2008)\n",
       "13962                                        Iron Man 2 (2010)\n",
       "15830                Captain America: The First Avenger (2011)\n",
       "15469                                              Thor (2011)\n",
       "16133                                     Avengers, The (2012)\n",
       "Name: title, dtype: object"
      ]
     },
     "execution_count": 28,
     "metadata": {},
     "output_type": "execute_result"
    }
   ],
   "source": [
    "user_history_index_sample_tfidf = [248, 1079, 2388, 9517, 11808, 13962, 15830, 15469, 16133]\n",
    "tags.loc[user_history_index_sample_tags]['title']"
   ]
  },
  {
   "cell_type": "markdown",
   "metadata": {},
   "source": [
    "Now, we can sit back and watch the two functions in action. Function ask_yes_no queries the user about the type of movies they would want to watch and the function get_content_recommendations actually gives the recommendations based on the user's responses. "
   ]
  },
  {
   "cell_type": "code",
   "execution_count": 34,
   "metadata": {
    "scrolled": false
   },
   "outputs": [
    {
     "name": "stdout",
     "output_type": "stream",
     "text": [
      "Do you like the movie \" Captain America: The First Avenger (2011) \" ?No\n",
      "Do you like the movie \" Star Wars: Episode V - The Empire Strikes Back (1980) \" ?Yes\n",
      "Do you like the movie \" Star Wars: Episode I - The Phantom Menace (1999) \" ?Yes\n"
     ]
    },
    {
     "data": {
      "text/plain": [
       "1092       Star Wars: Episode VI - Return of the Jedi (1983)\n",
       "5011     Star Wars: Episode II - Attack of the Clones (2002)\n",
       "248                Star Wars: Episode IV - A New Hope (1977)\n",
       "9517     Star Wars: Episode III - Revenge of the Sith (2005)\n",
       "20515                               Jupiter Ascending (2015)\n",
       "42867                         Solo: A Star Wars Story (2018)\n",
       "33572                 Buck Rogers in the 25th Century (1979)\n",
       "28652                        In the Dust of the Stars (1976)\n",
       "23993                                   Velocity Trap (1997)\n",
       "23063                                     Scorpio One (1998)\n",
       "Name: title, dtype: object"
      ]
     },
     "metadata": {},
     "output_type": "display_data"
    }
   ],
   "source": [
    "indices_tfidf = ask_yes_no(user_history_index_sample_tfidf, tags, principalComponents_df)\n",
    "get_content_recommendations(indices_tfidf, tags, principalComponents_df)"
   ]
  },
  {
   "cell_type": "markdown",
   "metadata": {},
   "source": [
    "We consider the same user for the CMU corpus dataset as well. Once again, we have:"
   ]
  },
  {
   "cell_type": "code",
   "execution_count": 32,
   "metadata": {},
   "outputs": [
    {
     "data": {
      "text/plain": [
       "24522                Star Wars Episode IV: A New Hope (1977-05-25)\n",
       "17002    Star Wars Episode V: The Empire Strikes Back (1980-05-21)\n",
       "15224         Star Wars Episode I: The Phantom Menace (1999-05-19)\n",
       "18861      Star Wars Episode III: Revenge of the Sith (2005-05-15)\n",
       "14213                                        Iron Man (2008-04-14)\n",
       "743                                        Iron Man 2 (2010-04-26)\n",
       "12984              Captain America: The First Avenger (2011-07-22)\n",
       "8478                                             Thor (2011-05-06)\n",
       "8642                                     The Avengers (2012-04-11)\n",
       "Name: title, dtype: object"
      ]
     },
     "execution_count": 32,
     "metadata": {},
     "output_type": "execute_result"
    }
   ],
   "source": [
    "user_history_index_sample_bert = [24522, 17002, 15224, 18861, 14213, 743, 12984, 8478, 8642]\n",
    "movieid_df['title'].loc[user_history_index_sample_bert]"
   ]
  },
  {
   "cell_type": "code",
   "execution_count": 35,
   "metadata": {},
   "outputs": [
    {
     "name": "stdout",
     "output_type": "stream",
     "text": [
      "Do you like the movie \" Iron Man (2008-04-14) \" ?Yes\n",
      "Do you like the movie \" Captain America: The First Avenger (2011-07-22) \" ?Yes\n",
      "Do you like the movie \" The Avengers (2012-04-11) \" ?No\n",
      "Do you like the movie \" Thor (2011-05-06) \" ?Yes\n"
     ]
    },
    {
     "data": {
      "text/plain": [
       "10630                                                       Northern Pursuit (1943-11-13)\n",
       "8642                                                            The Avengers (2012-04-11)\n",
       "4546                                                                      X2 (2003-04-24)\n",
       "11023                                                              Max Manus (2008-12-19)\n",
       "18703                                                             Space Raiders (1983-07)\n",
       "22242                                                             Undersea Kingdom (1936)\n",
       "10422                                                         Batman Forever (1995-06-09)\n",
       "14956                                                       S.S. Doomtrooper (2006-04-01)\n",
       "6482     The Adventures of Young Van Helsing: The Quest for the Lost Scepter (2004-04-20)\n",
       "9919                                               King of the Royal Mounted (1940-09-20)\n",
       "Name: title, dtype: object"
      ]
     },
     "metadata": {},
     "output_type": "display_data"
    }
   ],
   "source": [
    "indices_bert = ask_yes_no(user_history_index_sample_bert, movieid_df, bert_movie_embeddings_df)\n",
    "get_content_recommendations(indices_bert, movieid_df, bert_movie_embeddings_df)"
   ]
  },
  {
   "cell_type": "markdown",
   "metadata": {},
   "source": [
    "One can clearly see from the above that the tags-tfidf-PCA method seems to result in \"better\" recommendations than the plot-bert method. One reason why this might be the case is because the plot-bert method only uses details about the plot of the movie to make recommendations, instead of the more crucial salient features that users might pick up while generating tags. The plot-bert method could be more useful to experimental viewers who are interested in exploring new movies. More work needs to be done to leverage the metadata that is available in the CMU dataset. Also some pruning of the dataset to get rid of older movies might be useful thing to consider. "
   ]
  }
 ],
 "metadata": {
  "kernelspec": {
   "display_name": "Python 3",
   "language": "python",
   "name": "python3"
  },
  "language_info": {
   "codemirror_mode": {
    "name": "ipython",
    "version": 3
   },
   "file_extension": ".py",
   "mimetype": "text/x-python",
   "name": "python",
   "nbconvert_exporter": "python",
   "pygments_lexer": "ipython3",
   "version": "3.8.5"
  }
 },
 "nbformat": 4,
 "nbformat_minor": 2
}
