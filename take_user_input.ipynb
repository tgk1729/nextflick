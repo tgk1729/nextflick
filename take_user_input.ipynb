{
 "cells": [
  {
   "cell_type": "markdown",
   "metadata": {},
   "source": [
    "# Introduction"
   ]
  },
  {
   "cell_type": "markdown",
   "metadata": {},
   "source": [
    "In this file, we shall take user input in the form of answers to questions about the kind of movies they would like to watch. Once we collect this information, we shall use a content-based recommender which we construct from the data generated in the 'get_data' file to give real-time recommendations to the user."
   ]
  },
  {
   "cell_type": "code",
   "execution_count": 1,
   "metadata": {},
   "outputs": [],
   "source": [
    "import numpy as np\n",
    "import pandas as pd\n",
    "import os"
   ]
  },
  {
   "cell_type": "code",
   "execution_count": 2,
   "metadata": {},
   "outputs": [],
   "source": [
    "pd.options.display.max_rows = 999\n",
    "pd.options.display.max_columns = 999\n",
    "pd.options.display.max_colwidth = 99"
   ]
  },
  {
   "cell_type": "markdown",
   "metadata": {},
   "source": [
    "We start by reading the 'tags' and the 'principalComponents_df' dataframes from previously generated files. "
   ]
  },
  {
   "cell_type": "code",
   "execution_count": 3,
   "metadata": {},
   "outputs": [],
   "source": [
    "cwd = os.getcwd()\n",
    "\n",
    "tags = pd.read_csv(os.path.join(cwd, \"tags_with_document.csv\"))\n",
    "tags.drop(['Unnamed: 0'], axis=1, inplace=True)\n",
    "principalComponents_df = pd.read_csv(os.path.join(cwd, \"principal_Components.csv\"))\n",
    "principalComponents_df.drop(['Unnamed: 0'], axis=1, inplace=True)"
   ]
  },
  {
   "cell_type": "markdown",
   "metadata": {},
   "source": [
    "Next, we create a content-based recommender. We take an input of movie indices that a user presumably likes. We then locate these movies in the principalComponents_df dataframe and calculate the cosine similarity for every other movie in the database with these movies. Once done, we shall compute the average cosine similarity for each movie and recommend the ones that have the highest score. "
   ]
  },
  {
   "cell_type": "code",
   "execution_count": 4,
   "metadata": {},
   "outputs": [],
   "source": [
    "from sklearn.metrics.pairwise import cosine_similarity\n",
    "\n",
    "def get_content_recommendations(movie_indices, tags, principalComponents_df, num = 5):\n",
    "    \n",
    "    if len(movie_indices) == 0:\n",
    "        return \"Sorry\"\n",
    "    else:\n",
    "        principalComponents_movie_indices_df = principalComponents_df.loc[movie_indices]\n",
    "        similarity_matrix_df = pd.DataFrame(cosine_similarity(principalComponents_movie_indices_df.values,principalComponents_df.values), index=movie_indices, columns = tags.index.tolist())\n",
    "        similarity_matrix_df.drop(labels=movie_indices, axis=1, inplace=True)\n",
    "        similarity_score_df = pd.DataFrame(similarity_matrix_df.mean(), columns=['average similarity score'])\n",
    "        similarity_score_df.sort_values(by=['average similarity score'], ascending=False, inplace=True)\n",
    "        \n",
    "        return display(tags.loc[similarity_score_df.head(num).index.values.tolist()]['title'])"
   ]
  },
  {
   "cell_type": "markdown",
   "metadata": {},
   "source": [
    "We can test whether this recommendation scheme works well or not. To start with, we try to figure out the movie index corresponding to a given movie. For example, consider \"Star Wars\"."
   ]
  },
  {
   "cell_type": "code",
   "execution_count": 5,
   "metadata": {},
   "outputs": [
    {
     "data": {
      "text/plain": [
       "248                          Star Wars: Episode IV - A New Hope (1977)\n",
       "1079             Star Wars: Episode V - The Empire Strikes Back (1980)\n",
       "1092                 Star Wars: Episode VI - Return of the Jedi (1983)\n",
       "2388                  Star Wars: Episode I - The Phantom Menace (1999)\n",
       "5011               Star Wars: Episode II - Attack of the Clones (2002)\n",
       "9517               Star Wars: Episode III - Revenge of the Sith (2005)\n",
       "12064                                 Star Wars: The Clone Wars (2008)\n",
       "14218    Empire of Dreams: The Story of the 'Star Wars' Trilogy (2004)\n",
       "19766                             Star Wars: Threads of Destiny (2014)\n",
       "23031                Star Wars: Episode VII - The Force Awakens (2015)\n",
       "26845                             The Star Wars Holiday Special (1978)\n",
       "31328               Plastic Galaxy: The Story of Star Wars Toys (2014)\n",
       "36262                              Rogue One: A Star Wars Story (2016)\n",
       "40428                                  Star Wars: The Last Jedi (2017)\n",
       "41381                            Star Wars: The Legacy Revealed (2007)\n",
       "41909                                       Star Wars Downunder (2013)\n",
       "42867                                   Solo: A Star Wars Story (2018)\n",
       "44229                                                Star Wars: Dresca\n",
       "Name: title, dtype: object"
      ]
     },
     "execution_count": 5,
     "metadata": {},
     "output_type": "execute_result"
    }
   ],
   "source": [
    "movie_title = \"Star Wars\"\n",
    "tags[tags.title.str.contains(movie_title)]['title']"
   ]
  },
  {
   "cell_type": "markdown",
   "metadata": {},
   "source": [
    "Suppose we pick Star Wars: Episode IV and Star Wars: Episode V as movies that we like. Then, the content based recommendations are given by:"
   ]
  },
  {
   "cell_type": "code",
   "execution_count": 6,
   "metadata": {
    "scrolled": true
   },
   "outputs": [
    {
     "data": {
      "text/plain": [
       "1092       Star Wars: Episode VI - Return of the Jedi (1983)\n",
       "2388        Star Wars: Episode I - The Phantom Menace (1999)\n",
       "5011     Star Wars: Episode II - Attack of the Clones (2002)\n",
       "20515                               Jupiter Ascending (2015)\n",
       "23993                                   Velocity Trap (1997)\n",
       "Name: title, dtype: object"
      ]
     },
     "metadata": {},
     "output_type": "display_data"
    }
   ],
   "source": [
    "get_content_recommendations([248, 1079], tags, principalComponents_df)"
   ]
  },
  {
   "cell_type": "markdown",
   "metadata": {},
   "source": [
    "Thus, looking at the recommendations, one can conclude that the recommendation scheme works reasonably well. Our next step is to construct a function that will smartly query a user about the kind of movies they are currently interested in watching. Once information about the user's immediate preferences is collected, we can make a smart recommendation using our function above. The idea behind this smart way of querying is to use hierarchical binary clustering. We start with the user's history and perform the first binary clustering. Then we pick a movie from one cluster at random and ask if the user is currently interested in a movie like the one we picked. If the user says \"Yes\", then we limit ourselves to that particular cluster and repeat the exercise. If no, we move to the other cluster and do the same. We stop when no further clustering is possible. This is a desirable scheme because the number of questions that a user has to answer is roughly of the order $\\log_2 N$ where $N$ is the size of a user's history. If $N = 200$, then the user will only have to answer roughly 7 or 8 such questions. This scheme can easily be implemented in a Tinder-like user interface where each question can be framed as a swipe. \n",
    "\n",
    "In order to perform clustering, we use the AgglomerativeClustering module within the sklearn library.  \\We thus write the following function:"
   ]
  },
  {
   "cell_type": "code",
   "execution_count": 11,
   "metadata": {},
   "outputs": [],
   "source": [
    "from random import randrange\n",
    "from sklearn.cluster import AgglomerativeClustering \n",
    "\n",
    "def ask_yes_no(movie_index_list, tags, principalComponents_df):\n",
    "    movies_liked_indices = []\n",
    "    \n",
    "    if len(movie_index_list) == 0:\n",
    "        return movies_liked_indices\n",
    "\n",
    "    elif len(movie_index_list) == 1:\n",
    "        response = input(\"Do you like the movie \\\" {} \\\" ?\".format(tags['title'].iloc[movie_index_list[0]]))\n",
    "        \n",
    "        if response == \"Yes\":\n",
    "            movies_liked_indices.append(movie_index_list[0])\n",
    "            \n",
    "        return movies_liked_indices\n",
    "    else:\n",
    "        movie_index_principalComponents = np.take(principalComponents_df.values, movie_index_list, axis=0)\n",
    "        clt = AgglomerativeClustering(linkage='average', affinity='cosine', n_clusters=2)\n",
    "        model = clt.fit(movie_index_principalComponents) \n",
    "    \n",
    "        movies_label_zero = []\n",
    "        movies_label_one = []\n",
    "        \n",
    "        for i in range(len(model.labels_)):\n",
    "            if model.labels_[i] == 0:\n",
    "                movies_label_zero.append(movie_index_list[i])\n",
    "            else:\n",
    "                movies_label_one.append(movie_index_list[i])\n",
    "          \n",
    "        if len(movies_label_zero) != 0:\n",
    "            random_movie_index = np.random.choice(movies_label_zero, replace=False)\n",
    "            random_response = input(\"Do you like the movie \\\" {} \\\" ?\".format(tags['title'].iloc[random_movie_index]))\n",
    "            \n",
    "            if random_response == \"Yes\":\n",
    "                movies_label_zero.remove(random_movie_index)\n",
    "                return ask_yes_no(movies_label_zero, tags, principalComponents_df) + [random_movie_index]\n",
    "            else: \n",
    "                return ask_yes_no(movies_label_one, tags, principalComponents_df)\n",
    "        else:\n",
    "            random_movie_index = np.random.choice(movies_label_one, replace=False)\n",
    "#             random_movie_index = movies_label_one[0] \n",
    "            random_response = input(\"Do you like the movie \\\" {} \\\" ?\".format(tags['title'].iloc[random_movie_index]))\n",
    "                        \n",
    "            if random_response == \"Yes\":\n",
    "                movies_label_one.remove(random_movie_index)\n",
    "                return ask_yes_no(movies_label_one, tags, principalComponents_df) + [random_movie_index]\n",
    "            else: \n",
    "                movies_label_one.remove(random_movie_index)\n",
    "                return ask_yes_no(movies_label_one, tags, principalComponents_df)"
   ]
  },
  {
   "cell_type": "markdown",
   "metadata": {},
   "source": [
    "We can readily test to see if our function works well. As a test case, we pick a user who has watched 12 movies - 4 from the Star Wars Universe and remaining 8 from the Marvel Cinematic Universe. The specific movies are as follows:"
   ]
  },
  {
   "cell_type": "code",
   "execution_count": 8,
   "metadata": {
    "scrolled": true
   },
   "outputs": [
    {
     "name": "stdout",
     "output_type": "stream",
     "text": [
      "248                  Star Wars: Episode IV - A New Hope (1977)\n",
      "1079     Star Wars: Episode V - The Empire Strikes Back (1980)\n",
      "2388          Star Wars: Episode I - The Phantom Menace (1999)\n",
      "9517       Star Wars: Episode III - Revenge of the Sith (2005)\n",
      "11808                                          Iron Man (2008)\n",
      "18376                                        Iron Man 3 (2013)\n",
      "19854               Captain America: The Winter Soldier (2014)\n",
      "23047                        Captain America: Civil War (2016)\n",
      "15469                                              Thor (2011)\n",
      "23037                                           Ant-Man (2015)\n",
      "23046                         Guardians of the Galaxy 2 (2017)\n",
      "16133                                     Avengers, The (2012)\n",
      "23034                           Avengers: Age of Ultron (2015)\n",
      "Name: title, dtype: object\n"
     ]
    }
   ],
   "source": [
    "user_history_index_sample = [248, 1079, 2388, 9517, 11808, 18376, 19854, 23047, 15469, 23037, 23046, 16133, 23034]\n",
    "print(tags.loc[user_history_index_sample]['title'])"
   ]
  },
  {
   "cell_type": "markdown",
   "metadata": {},
   "source": [
    "Now, we can sit back and watch the two functions in action. Function ask_yes_no queries the user about the type of movies they would want to watch and the function get_content_recommendations actually gives the recommendations based on the user's responses. "
   ]
  },
  {
   "cell_type": "code",
   "execution_count": 12,
   "metadata": {
    "scrolled": false
   },
   "outputs": [
    {
     "name": "stdout",
     "output_type": "stream",
     "text": [
      "Do you like the movie \" Guardians of the Galaxy 2 (2017) \" ?No\n",
      "Do you like the movie \" Thor (2011) \" ?Yes\n",
      "Do you like the movie \" Avengers: Age of Ultron (2015) \" ?Yes\n",
      "Do you like the movie \" Captain America: The Winter Soldier (2014) \" ?Yes\n",
      "Do you like the movie \" Captain America: Civil War (2016) \" ?Yes\n"
     ]
    },
    {
     "data": {
      "text/plain": [
       "9633              Fantastic Four (2005)\n",
       "17151    Amazing Spider-Man, The (2012)\n",
       "16133              Avengers, The (2012)\n",
       "11904       Incredible Hulk, The (2008)\n",
       "6107                        Hulk (2003)\n",
       "Name: title, dtype: object"
      ]
     },
     "metadata": {},
     "output_type": "display_data"
    }
   ],
   "source": [
    "indices = ask_yes_no(user_history_index_sample, tags, principalComponents_df)\n",
    "get_content_recommendations(indices, tags, principalComponents_df)"
   ]
  },
  {
   "cell_type": "code",
   "execution_count": null,
   "metadata": {},
   "outputs": [],
   "source": []
  }
 ],
 "metadata": {
  "kernelspec": {
   "display_name": "Python 3",
   "language": "python",
   "name": "python3"
  },
  "language_info": {
   "codemirror_mode": {
    "name": "ipython",
    "version": 3
   },
   "file_extension": ".py",
   "mimetype": "text/x-python",
   "name": "python",
   "nbconvert_exporter": "python",
   "pygments_lexer": "ipython3",
   "version": "3.8.5"
  }
 },
 "nbformat": 4,
 "nbformat_minor": 2
}
